{
 "cells": [
  {
   "cell_type": "code",
   "execution_count": 1,
   "metadata": {},
   "outputs": [
    {
     "name": "stdout",
     "output_type": "stream",
     "text": [
      "True\n"
     ]
    }
   ],
   "source": [
    "def cek_digit_belakang(x, y, z):\n",
    "    x = x % 10\n",
    "    y = y % 10\n",
    "    z = z % 10\n",
    "\n",
    "    if x == y or y == z or z == x:\n",
    "        return True \n",
    "    else:\n",
    "        return False\n",
    "    \n",
    "x = int(input('masukan x ='))\n",
    "y = int(input('masukan y ='))\n",
    "z = int(input('masukan z ='))\n",
    "\n",
    "print (cek_digit_belakang(x, y, z))\n"
   ]
  },
  {
   "cell_type": "code",
   "execution_count": 3,
   "metadata": {},
   "outputs": [
    {
     "name": "stdout",
     "output_type": "stream",
     "text": [
      "True\n"
     ]
    }
   ],
   "source": [
    "def cek_digit_belakang(x, y, z):\n",
    "    x = x % 10\n",
    "    y = y % 10\n",
    "    z = z % 10\n",
    "\n",
    "    if x == y or y == z or z == x:\n",
    "        return True \n",
    "    else:\n",
    "        return False\n",
    "    \n",
    "x = int(input('masukan x ='))\n",
    "y = int(input('masukan y ='))\n",
    "z = int(input('masukan z ='))\n",
    "\n",
    "print (cek_digit_belakang(x, y, z))\n"
   ]
  },
  {
   "cell_type": "code",
   "execution_count": 4,
   "metadata": {},
   "outputs": [
    {
     "name": "stdout",
     "output_type": "stream",
     "text": [
      "False\n"
     ]
    }
   ],
   "source": [
    "def cek_digit_belakang(x, y, z):\n",
    "    x = x % 10\n",
    "    y = y % 10\n",
    "    z = z % 10\n",
    "\n",
    "    if x == y or y == z or z == x:\n",
    "        return True \n",
    "    else:\n",
    "        return False\n",
    "    \n",
    "x = int(input('masukan x ='))\n",
    "y = int(input('masukan y ='))\n",
    "z = int(input('masukan z ='))\n",
    "\n",
    "print (cek_digit_belakang(x, y, z))\n"
   ]
  },
  {
   "cell_type": "code",
   "execution_count": 5,
   "metadata": {},
   "outputs": [
    {
     "name": "stdout",
     "output_type": "stream",
     "text": [
      "True\n"
     ]
    }
   ],
   "source": [
    "def cek_digit_belakang(x, y, z):\n",
    "    x = x % 10\n",
    "    y = y % 10\n",
    "    z = z % 10\n",
    "\n",
    "    if x == y or y == z or z == x:\n",
    "        return True \n",
    "    else:\n",
    "        return False\n",
    "    \n",
    "x = int(input('masukan x ='))\n",
    "y = int(input('masukan y ='))\n",
    "z = int(input('masukan z ='))\n",
    "\n",
    "print (cek_digit_belakang(x, y, z))\n"
   ]
  },
  {
   "cell_type": "code",
   "execution_count": 6,
   "metadata": {},
   "outputs": [
    {
     "name": "stdout",
     "output_type": "stream",
     "text": [
      "False\n"
     ]
    }
   ],
   "source": [
    "def cek_digit_belakang(x, y, z):\n",
    "    x = x % 10\n",
    "    y = y % 10\n",
    "    z = z % 10\n",
    "\n",
    "    if x == y or y == z or z == x:\n",
    "        return True \n",
    "    else:\n",
    "        return False\n",
    "    \n",
    "x = int(input('masukan x ='))\n",
    "y = int(input('masukan y ='))\n",
    "z = int(input('masukan z ='))\n",
    "\n",
    "print (cek_digit_belakang(x, y, z))\n"
   ]
  }
 ],
 "metadata": {
  "kernelspec": {
   "display_name": "Python 3",
   "language": "python",
   "name": "python3"
  },
  "language_info": {
   "codemirror_mode": {
    "name": "ipython",
    "version": 3
   },
   "file_extension": ".py",
   "mimetype": "text/x-python",
   "name": "python",
   "nbconvert_exporter": "python",
   "pygments_lexer": "ipython3",
   "version": "3.12.0"
  }
 },
 "nbformat": 4,
 "nbformat_minor": 2
}
