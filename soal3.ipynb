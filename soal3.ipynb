{
 "cells": [
  {
   "cell_type": "code",
   "execution_count": 2,
   "metadata": {},
   "outputs": [
    {
     "name": "stdout",
     "output_type": "stream",
     "text": [
      "Input C= 100 output F = 212.0\n",
      "Input C = 80 output R = 64.0\n",
      "Input_C= 0 output F = 32.0\n"
     ]
    }
   ],
   "source": [
    "celcius_to_fahrenheit = lambda C : (9/5) * C + 32\n",
    "celcius_to_reamur = lambda C : 0.8 * C\n",
    "\n",
    "input_C = 100\n",
    "output_F = celcius_to_fahrenheit(input_C)\n",
    "print(\"Input C=\", input_C, \"output F =\", output_F)\n",
    "\n",
    "input_C = 80\n",
    "output_R = celcius_to_reamur(input_C)\n",
    "print(\"Input C =\", input_C, \"output R =\", output_R)\n",
    "\n",
    "input_C = 0\n",
    "output_F3 = celcius_to_fahrenheit(input_C)\n",
    "print(\"Input_C=\", input_C, \"output F =\", output_F3)"
   ]
  }
 ],
 "metadata": {
  "kernelspec": {
   "display_name": "Python 3",
   "language": "python",
   "name": "python3"
  },
  "language_info": {
   "codemirror_mode": {
    "name": "ipython",
    "version": 3
   },
   "file_extension": ".py",
   "mimetype": "text/x-python",
   "name": "python",
   "nbconvert_exporter": "python",
   "pygments_lexer": "ipython3",
   "version": "3.12.0"
  }
 },
 "nbformat": 4,
 "nbformat_minor": 2
}
