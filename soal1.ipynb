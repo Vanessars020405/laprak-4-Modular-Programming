{
 "cells": [
  {
   "cell_type": "code",
   "execution_count": 34,
   "metadata": {},
   "outputs": [
    {
     "name": "stdout",
     "output_type": "stream",
     "text": [
      "True\n"
     ]
    }
   ],
   "source": [
    "def cek_angka(a, b, c):\n",
    "    if a!=b and b!=c and c!=a:\n",
    "        if a+b ==c or b+c ==a or c+a ==b:\n",
    "            return True\n",
    "        return False\n",
    "    \n",
    "a = int(input('masukan a = '))\n",
    "b = int(input('masukan b = '))\n",
    "c = int(input('masukan c = '))\n",
    "\n",
    "print(cek_angka(a, b, c))"
   ]
  },
  {
   "cell_type": "code",
   "execution_count": 35,
   "metadata": {},
   "outputs": [
    {
     "name": "stdout",
     "output_type": "stream",
     "text": [
      "False\n"
     ]
    }
   ],
   "source": [
    "def cek_angka(a, b, c):\n",
    "    if a!=b and b!=c and c!=a:\n",
    "        if a+b ==c or b+c ==a or c+a ==b:\n",
    "            return True\n",
    "        return False\n",
    "    \n",
    "a = int(input('masukan a = '))\n",
    "b = int(input('masukan b = '))\n",
    "c = int(input('masukan c = '))\n",
    "\n",
    "print(cek_angka(a, b, c))"
   ]
  }
 ],
 "metadata": {
  "kernelspec": {
   "display_name": "Python 3",
   "language": "python",
   "name": "python3"
  },
  "language_info": {
   "codemirror_mode": {
    "name": "ipython",
    "version": 3
   },
   "file_extension": ".py",
   "mimetype": "text/x-python",
   "name": "python",
   "nbconvert_exporter": "python",
   "pygments_lexer": "ipython3",
   "version": "3.12.0"
  }
 },
 "nbformat": 4,
 "nbformat_minor": 2
}
