{
 "cells": [
  {
   "cell_type": "code",
   "execution_count": 34,
   "metadata": {},
   "outputs": [
    {
     "name": "stdout",
     "output_type": "stream",
     "text": [
      "True\n"
     ]
    }
   ],
   "source": [
    "#Nomer 1\n",
    "def cek_angka(a, b, c):\n",
    "    if a!=b and b!=c and c!=a:\n",
    "        if a+b ==c or b+c ==a or c+a ==b:\n",
    "            return True\n",
    "        return False\n",
    "    \n",
    "a = int(input('masukan a = '))\n",
    "b = int(input('masukan b = '))\n",
    "c = int(input('masukan c = '))\n",
    "\n",
    "print(cek_angka(a, b, c))"
   ]
  },
  {
   "cell_type": "code",
   "execution_count": 35,
   "metadata": {},
   "outputs": [
    {
     "name": "stdout",
     "output_type": "stream",
     "text": [
      "False\n"
     ]
    }
   ],
   "source": [
    "def cek_angka(a, b, c):\n",
    "    if a!=b and b!=c and c!=a:\n",
    "        if a+b ==c or b+c ==a or c+a ==b:\n",
    "            return True\n",
    "        return False\n",
    "    \n",
    "a = int(input('masukan a = '))\n",
    "b = int(input('masukan b = '))\n",
    "c = int(input('masukan c = '))\n",
    "\n",
    "print(cek_angka(a, b, c))"
   ]
  },
  {
   "cell_type": "code",
   "execution_count": 36,
   "metadata": {},
   "outputs": [
    {
     "name": "stdout",
     "output_type": "stream",
     "text": [
      "True\n"
     ]
    }
   ],
   "source": [
    "#Nomer2\n",
    "def cek_digit_belakang(x, y, z):\n",
    "    x = x % 10\n",
    "    y = y % 10\n",
    "    z = z % 10\n",
    "\n",
    "    if x == y or y == z or z == x:\n",
    "        return True \n",
    "    else:\n",
    "        return False\n",
    "    \n",
    "x = int(input('masukan x ='))\n",
    "y = int(input('masukan y ='))\n",
    "z = int(input('masukan z ='))\n",
    "\n",
    "print (cek_digit_belakang(x, y, z))\n"
   ]
  },
  {
   "cell_type": "code",
   "execution_count": 37,
   "metadata": {},
   "outputs": [
    {
     "name": "stdout",
     "output_type": "stream",
     "text": [
      "True\n"
     ]
    }
   ],
   "source": [
    "def cek_digit_belakang(x, y, z):\n",
    "    x = x % 10\n",
    "    y = y % 10\n",
    "    z = z % 10\n",
    "\n",
    "    if x == y or y == z or z == x:\n",
    "        return True \n",
    "    else:\n",
    "        return False\n",
    "    \n",
    "x = int(input('masukan x ='))\n",
    "y = int(input('masukan y ='))\n",
    "z = int(input('masukan z ='))\n",
    "\n",
    "print (cek_digit_belakang(x, y, z))\n"
   ]
  },
  {
   "cell_type": "code",
   "execution_count": 38,
   "metadata": {},
   "outputs": [
    {
     "name": "stdout",
     "output_type": "stream",
     "text": [
      "False\n"
     ]
    }
   ],
   "source": [
    "def cek_digit_belakang(x, y, z):\n",
    "    x = x % 10\n",
    "    y = y % 10\n",
    "    z = z % 10\n",
    "\n",
    "    if x == y or y == z or z == x:\n",
    "        return True \n",
    "    else:\n",
    "        return False\n",
    "    \n",
    "x = int(input('masukan x ='))\n",
    "y = int(input('masukan y ='))\n",
    "z = int(input('masukan z ='))\n",
    "\n",
    "print (cek_digit_belakang(x, y, z))\n"
   ]
  },
  {
   "cell_type": "code",
   "execution_count": 39,
   "metadata": {},
   "outputs": [
    {
     "name": "stdout",
     "output_type": "stream",
     "text": [
      "True\n"
     ]
    }
   ],
   "source": [
    "def cek_digit_belakang(x, y, z):\n",
    "    x = x % 10\n",
    "    y = y % 10\n",
    "    z = z % 10\n",
    "\n",
    "    if x == y or y == z or z == x:\n",
    "        return True \n",
    "    else:\n",
    "        return False\n",
    "    \n",
    "x = int(input('masukan x ='))\n",
    "y = int(input('masukan y ='))\n",
    "z = int(input('masukan z ='))\n",
    "\n",
    "print (cek_digit_belakang(x, y, z))\n"
   ]
  },
  {
   "cell_type": "code",
   "execution_count": 40,
   "metadata": {},
   "outputs": [
    {
     "name": "stdout",
     "output_type": "stream",
     "text": [
      "False\n"
     ]
    }
   ],
   "source": [
    "def cek_digit_belakang(x, y, z):\n",
    "    x = x % 10\n",
    "    y = y % 10\n",
    "    z = z % 10\n",
    "\n",
    "    if x == y or y == z or z == x:\n",
    "        return True \n",
    "    else:\n",
    "        return False\n",
    "    \n",
    "x = int(input('masukan x ='))\n",
    "y = int(input('masukan y ='))\n",
    "z = int(input('masukan z ='))\n",
    "\n",
    "print (cek_digit_belakang(x, y, z))\n"
   ]
  },
  {
   "cell_type": "code",
   "execution_count": 41,
   "metadata": {},
   "outputs": [
    {
     "name": "stdout",
     "output_type": "stream",
     "text": [
      "Input C= 100 output F = 212.0\n",
      "Input C = 80 output R = 64.0\n",
      "Input_C= 0 output F = 32.0\n"
     ]
    }
   ],
   "source": [
    "#Nomer3\n",
    "celcius_to_fahrenheit = lambda C : (9/5) * C + 32\n",
    "celcius_to_reamur = lambda C : 0.8 * C\n",
    "\n",
    "input_C = 100\n",
    "output_F = celcius_to_fahrenheit(input_C)\n",
    "print(\"Input C=\", input_C, \"output F =\", output_F)\n",
    "\n",
    "input_C = 80\n",
    "output_R = celcius_to_reamur(input_C)\n",
    "print(\"Input C =\", input_C, \"output R =\", output_R)\n",
    "\n",
    "input_C = 0\n",
    "output_F3 = celcius_to_fahrenheit(input_C)\n",
    "print(\"Input_C=\", input_C, \"output F =\", output_F3)"
   ]
  }
 ],
 "metadata": {
  "kernelspec": {
   "display_name": "Python 3",
   "language": "python",
   "name": "python3"
  },
  "language_info": {
   "codemirror_mode": {
    "name": "ipython",
    "version": 3
   },
   "file_extension": ".py",
   "mimetype": "text/x-python",
   "name": "python",
   "nbconvert_exporter": "python",
   "pygments_lexer": "ipython3",
   "version": "3.12.0"
  }
 },
 "nbformat": 4,
 "nbformat_minor": 2
}
